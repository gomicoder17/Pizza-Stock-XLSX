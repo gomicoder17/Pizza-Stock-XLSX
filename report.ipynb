{
 "cells": [
  {
   "cell_type": "markdown",
   "metadata": {},
   "source": [
    "### Import libraries"
   ]
  },
  {
   "cell_type": "code",
   "execution_count": 2,
   "metadata": {},
   "outputs": [],
   "source": [
    "import xlsxwriter\n",
    "import pandas as pd"
   ]
  },
  {
   "cell_type": "markdown",
   "metadata": {},
   "source": [
    "### Load Data"
   ]
  },
  {
   "cell_type": "code",
   "execution_count": 3,
   "metadata": {},
   "outputs": [
    {
     "data": {
      "text/html": [
       "<div>\n",
       "<style scoped>\n",
       "    .dataframe tbody tr th:only-of-type {\n",
       "        vertical-align: middle;\n",
       "    }\n",
       "\n",
       "    .dataframe tbody tr th {\n",
       "        vertical-align: top;\n",
       "    }\n",
       "\n",
       "    .dataframe thead th {\n",
       "        text-align: right;\n",
       "    }\n",
       "</style>\n",
       "<table border=\"1\" class=\"dataframe\">\n",
       "  <thead>\n",
       "    <tr style=\"text-align: right;\">\n",
       "      <th></th>\n",
       "      <th>order_id</th>\n",
       "      <th>date</th>\n",
       "    </tr>\n",
       "  </thead>\n",
       "  <tbody>\n",
       "    <tr>\n",
       "      <th>0</th>\n",
       "      <td>1</td>\n",
       "      <td>2016-01-01</td>\n",
       "    </tr>\n",
       "    <tr>\n",
       "      <th>1</th>\n",
       "      <td>2</td>\n",
       "      <td>2016-01-01</td>\n",
       "    </tr>\n",
       "    <tr>\n",
       "      <th>2</th>\n",
       "      <td>4</td>\n",
       "      <td>2016-01-01</td>\n",
       "    </tr>\n",
       "    <tr>\n",
       "      <th>3</th>\n",
       "      <td>5</td>\n",
       "      <td>2016-01-01</td>\n",
       "    </tr>\n",
       "    <tr>\n",
       "      <th>4</th>\n",
       "      <td>6</td>\n",
       "      <td>2016-01-01</td>\n",
       "    </tr>\n",
       "  </tbody>\n",
       "</table>\n",
       "</div>"
      ],
      "text/plain": [
       "   order_id       date\n",
       "0         1 2016-01-01\n",
       "1         2 2016-01-01\n",
       "2         4 2016-01-01\n",
       "3         5 2016-01-01\n",
       "4         6 2016-01-01"
      ]
     },
     "execution_count": 3,
     "metadata": {},
     "output_type": "execute_result"
    }
   ],
   "source": [
    "orders = pd.read_csv(\"data/orders_2016_clean.csv\")\n",
    "orders.sort_values(by=[\"date\",\"order_id\"], inplace=True)\n",
    "orders[\"date\"] = pd.to_datetime(orders[\"date\"])\n",
    "orders.reset_index(drop=True, inplace=True)\n",
    "orders.head()"
   ]
  },
  {
   "cell_type": "code",
   "execution_count": 4,
   "metadata": {},
   "outputs": [
    {
     "data": {
      "text/html": [
       "<div>\n",
       "<style scoped>\n",
       "    .dataframe tbody tr th:only-of-type {\n",
       "        vertical-align: middle;\n",
       "    }\n",
       "\n",
       "    .dataframe tbody tr th {\n",
       "        vertical-align: top;\n",
       "    }\n",
       "\n",
       "    .dataframe thead th {\n",
       "        text-align: right;\n",
       "    }\n",
       "</style>\n",
       "<table border=\"1\" class=\"dataframe\">\n",
       "  <thead>\n",
       "    <tr style=\"text-align: right;\">\n",
       "      <th></th>\n",
       "      <th>order_id</th>\n",
       "      <th>pizza_id</th>\n",
       "      <th>quantity</th>\n",
       "    </tr>\n",
       "  </thead>\n",
       "  <tbody>\n",
       "    <tr>\n",
       "      <th>0</th>\n",
       "      <td>1</td>\n",
       "      <td>hawaiian</td>\n",
       "      <td>1.0</td>\n",
       "    </tr>\n",
       "    <tr>\n",
       "      <th>1</th>\n",
       "      <td>2</td>\n",
       "      <td>five_cheese</td>\n",
       "      <td>1.0</td>\n",
       "    </tr>\n",
       "    <tr>\n",
       "      <th>2</th>\n",
       "      <td>2</td>\n",
       "      <td>thai_ckn</td>\n",
       "      <td>1.0</td>\n",
       "    </tr>\n",
       "    <tr>\n",
       "      <th>3</th>\n",
       "      <td>2</td>\n",
       "      <td>classic_dlx</td>\n",
       "      <td>1.0</td>\n",
       "    </tr>\n",
       "    <tr>\n",
       "      <th>4</th>\n",
       "      <td>2</td>\n",
       "      <td>mexicana</td>\n",
       "      <td>1.0</td>\n",
       "    </tr>\n",
       "  </tbody>\n",
       "</table>\n",
       "</div>"
      ],
      "text/plain": [
       "   order_id     pizza_id  quantity\n",
       "0         1     hawaiian       1.0\n",
       "1         2  five_cheese       1.0\n",
       "2         2     thai_ckn       1.0\n",
       "3         2  classic_dlx       1.0\n",
       "4         2     mexicana       1.0"
      ]
     },
     "execution_count": 4,
     "metadata": {},
     "output_type": "execute_result"
    }
   ],
   "source": [
    "order_details = pd.read_csv(\"data/order_details_2016_clean.csv\")\n",
    "order_details.sort_values(by=[\"order_id\"], inplace=True)\n",
    "order_details.reset_index(drop=True, inplace=True)\n",
    "order_details[\"pizza_id\"]=order_details[\"pizza_id\"].str.replace(r\"_[smlx]{1,3}$\",\"\",regex=True)\n",
    "order_details.head()"
   ]
  },
  {
   "cell_type": "code",
   "execution_count": 5,
   "metadata": {},
   "outputs": [
    {
     "data": {
      "text/html": [
       "<div>\n",
       "<style scoped>\n",
       "    .dataframe tbody tr th:only-of-type {\n",
       "        vertical-align: middle;\n",
       "    }\n",
       "\n",
       "    .dataframe tbody tr th {\n",
       "        vertical-align: top;\n",
       "    }\n",
       "\n",
       "    .dataframe thead th {\n",
       "        text-align: right;\n",
       "    }\n",
       "</style>\n",
       "<table border=\"1\" class=\"dataframe\">\n",
       "  <thead>\n",
       "    <tr style=\"text-align: right;\">\n",
       "      <th></th>\n",
       "      <th>order_id</th>\n",
       "      <th>date</th>\n",
       "      <th>pizza_id</th>\n",
       "      <th>quantity</th>\n",
       "    </tr>\n",
       "  </thead>\n",
       "  <tbody>\n",
       "    <tr>\n",
       "      <th>0</th>\n",
       "      <td>1</td>\n",
       "      <td>2016-01-01</td>\n",
       "      <td>hawaiian</td>\n",
       "      <td>1.0</td>\n",
       "    </tr>\n",
       "    <tr>\n",
       "      <th>1</th>\n",
       "      <td>2</td>\n",
       "      <td>2016-01-01</td>\n",
       "      <td>five_cheese</td>\n",
       "      <td>1.0</td>\n",
       "    </tr>\n",
       "    <tr>\n",
       "      <th>2</th>\n",
       "      <td>2</td>\n",
       "      <td>2016-01-01</td>\n",
       "      <td>thai_ckn</td>\n",
       "      <td>1.0</td>\n",
       "    </tr>\n",
       "    <tr>\n",
       "      <th>3</th>\n",
       "      <td>2</td>\n",
       "      <td>2016-01-01</td>\n",
       "      <td>classic_dlx</td>\n",
       "      <td>1.0</td>\n",
       "    </tr>\n",
       "    <tr>\n",
       "      <th>4</th>\n",
       "      <td>2</td>\n",
       "      <td>2016-01-01</td>\n",
       "      <td>mexicana</td>\n",
       "      <td>1.0</td>\n",
       "    </tr>\n",
       "  </tbody>\n",
       "</table>\n",
       "</div>"
      ],
      "text/plain": [
       "   order_id       date     pizza_id  quantity\n",
       "0         1 2016-01-01     hawaiian       1.0\n",
       "1         2 2016-01-01  five_cheese       1.0\n",
       "2         2 2016-01-01     thai_ckn       1.0\n",
       "3         2 2016-01-01  classic_dlx       1.0\n",
       "4         2 2016-01-01     mexicana       1.0"
      ]
     },
     "execution_count": 5,
     "metadata": {},
     "output_type": "execute_result"
    }
   ],
   "source": [
    "orders = orders.merge(order_details, on=\"order_id\")\n",
    "orders.head()"
   ]
  },
  {
   "cell_type": "markdown",
   "metadata": {},
   "source": [
    "## GENERAL REPORT"
   ]
  },
  {
   "cell_type": "code",
   "execution_count": 6,
   "metadata": {},
   "outputs": [],
   "source": [
    "CELL_WIDTH = 64\n",
    "CELL_HEIGHT = 20"
   ]
  },
  {
   "cell_type": "code",
   "execution_count": 7,
   "metadata": {},
   "outputs": [],
   "source": [
    "workbook = xlsxwriter.Workbook('output/report.xlsx')\n",
    "worksheet = workbook.add_worksheet(\"General_Report\")\n",
    "\n",
    "text = '''GENERAL REPORT'''\n",
    "options = {\n",
    "    'width': CELL_WIDTH*8,\n",
    "    'height': CELL_HEIGHT*4,\n",
    "    'font':{\n",
    "        'bold': True,\n",
    "        'size': 32,\n",
    "        'color': 'black'\n",
    "    },\n",
    "    'align': {'horizontal': 'center', 'vertical': 'middle'},\n",
    "    'line': {'color': 'black', 'width': 1, 'dash_type': 'solid'},\n",
    "}\n",
    "worksheet.insert_textbox(\"C2\", text, options);"
   ]
  },
  {
   "cell_type": "markdown",
   "metadata": {},
   "source": [
    "### PLOTS USING EXCEL"
   ]
  },
  {
   "cell_type": "markdown",
   "metadata": {},
   "source": [
    "### Pizzas sold per month"
   ]
  },
  {
   "cell_type": "code",
   "execution_count": 8,
   "metadata": {},
   "outputs": [
    {
     "name": "stdout",
     "output_type": "stream",
     "text": [
      "Int64Index([1, 2, 3, 4, 5, 6, 7, 8, 9, 10, 11, 12], dtype='int64', name='month')\n",
      "[2850. 2712. 2934. 2924. 2981. 2775. 3036. 2855. 2664. 2687. 2928. 2679.]\n"
     ]
    }
   ],
   "source": [
    "orders[\"month\"] = orders[\"date\"].dt.month\n",
    "pizzas_mes=orders.groupby(\"month\")[\"quantity\"].sum()\n",
    "\n",
    "worksheet.write_row(\"B9\", [\"Month\", \"Pizzas Sold\"])\n",
    "\n",
    "worksheet.write_column(\"B10\", pizzas_mes.index)\n",
    "worksheet.write_column(\"C10\", pizzas_mes.values)\n",
    "\n",
    "chart = workbook.add_chart({'type': 'column'})\n",
    "\n",
    "chart.add_series({  \n",
    "    'name':       f'={worksheet.name}!$C$9',\n",
    "    'categories': f'={worksheet.name}!$B$10:$B${len(pizzas_mes)+9}',\n",
    "    'values':     f'={worksheet.name}!$C$10:$C${len(pizzas_mes)+9}',\n",
    "})\n",
    "\n",
    "chart.set_title({'name': 'Pizzas vendidas por mes'})\n",
    "chart.set_x_axis({'name': 'Mes'})\n",
    "chart.set_y_axis({'name': 'Pizzas vendidas'})\n",
    "chart.set_x_axis({'num_font':  {'rotation': 45}})\n",
    "chart.set_style(10)\n",
    "worksheet.insert_chart('E8', chart);"
   ]
  },
  {
   "cell_type": "markdown",
   "metadata": {},
   "source": [
    "### 10 most sold pizzas"
   ]
  },
  {
   "cell_type": "code",
   "execution_count": 9,
   "metadata": {},
   "outputs": [],
   "source": [
    "pizzas=orders.groupby(\"pizza_id\")[\"quantity\"].sum()\n",
    "pizzas.sort_values(ascending=False, inplace=True)\n",
    "pizzas=pizzas[:10]\n",
    "\n",
    "worksheet.write_row(\"B26\", [\"Pizza\", \"Quantity\"])\n",
    "worksheet.write_column(\"B27\", pizzas.index)\n",
    "worksheet.write_column(\"C27\", pizzas.values)\n",
    "\n",
    "chart = workbook.add_chart({'type': 'column'})\n",
    "\n",
    "chart.add_series({\n",
    "    'name':       '=General_Report!$C$26',\n",
    "    'categories': f'=General_Report!$B$27:$B${len(pizzas)+26}',\n",
    "    'values':     f'=General_Report!$C$27:$C${len(pizzas)+26}',\n",
    "})\n",
    "chart.set_title({'name': '10 most sold pizzas'})\n",
    "chart.set_x_axis({'name': 'Pizza'})\n",
    "chart.set_y_axis({'name': 'Pizzas vendidas'})\n",
    "chart.set_x_axis({'num_font':  {'rotation': 45}})\n",
    "chart.set_style(10)\n",
    "\n",
    "worksheet.insert_chart('E25', chart);"
   ]
  },
  {
   "cell_type": "markdown",
   "metadata": {},
   "source": [
    "### 10 least sold pizzas"
   ]
  },
  {
   "cell_type": "code",
   "execution_count": 10,
   "metadata": {},
   "outputs": [],
   "source": [
    "pizzas=orders.groupby(\"pizza_id\")[\"quantity\"].sum()\n",
    "pizzas.sort_values(ascending=True, inplace=True)\n",
    "pizzas=pizzas[:10]\n",
    "\n",
    "worksheet.write_row(\"B43\", [\"Pizza\", \"Quantity\"])\n",
    "worksheet.write_column(\"B44\", pizzas.index)\n",
    "worksheet.write_column(\"C44\", pizzas.values)\n",
    "\n",
    "chart = workbook.add_chart({'type': 'column'})\n",
    "\n",
    "chart.add_series({\n",
    "    'name':       '=General_Report!$C$43',\n",
    "    'categories': f'=General_Report!$B$44:$B${len(pizzas)+43}',\n",
    "    'values':     f'=General_Report!$C$44:$C${len(pizzas)+43}',\n",
    "})\n",
    "\n",
    "chart.set_title({'name': '10 least sold pizzas'})\n",
    "chart.set_x_axis({'name': 'Pizza'})\n",
    "chart.set_y_axis({'name': 'Pizzas vendidas'})\n",
    "chart.set_x_axis({'num_font':  {'rotation': 45}})\n",
    "chart.set_style(10)\n",
    "\n",
    "worksheet.insert_chart('E42', chart);"
   ]
  },
  {
   "cell_type": "markdown",
   "metadata": {},
   "source": [
    "### PLOTS FROM MATPLOTLIB"
   ]
  },
  {
   "cell_type": "markdown",
   "metadata": {},
   "source": [
    "Using images from last PDF report."
   ]
  },
  {
   "cell_type": "code",
   "execution_count": 11,
   "metadata": {},
   "outputs": [],
   "source": [
    "worksheet = workbook.add_worksheet(\"Predictions_Report\")\n",
    "\n",
    "text = '''PREDICTIONS REPORT'''\n",
    "options = {\n",
    "    'width': CELL_WIDTH*9,\n",
    "    'height': CELL_HEIGHT*4,\n",
    "    'font':{\n",
    "        'bold': True,\n",
    "        'size': 32,\n",
    "        'color': 'black'\n",
    "    },\n",
    "    'align': {'horizontal': 'center', 'vertical': 'middle'},\n",
    "    'line': {'color': 'black', 'width': 1, 'dash_type': 'solid'},\n",
    "}\n",
    "worksheet.insert_textbox(\"G2\", text, options);"
   ]
  },
  {
   "cell_type": "markdown",
   "metadata": {},
   "source": [
    "### Predictions"
   ]
  },
  {
   "cell_type": "code",
   "execution_count": 12,
   "metadata": {},
   "outputs": [],
   "source": [
    "txt=\"\"\"Here is how the model predicts a given ingredient in may 2016. \n",
    "To check if our model is aplicable in our daily basis, we'll see how well it predicts ingredients on days that are not in the training set.\n",
    "The first 7 days are in the training set, the rest are not.\n",
    "\n",
    "The confidence interval is given by the mean absolute error of that ingredient.\n",
    "\n",
    "As we can see, the model fits the data of two weeks in the future pretty well, and then it starts to fail but slightly.\"\"\"\n",
    "\n",
    "\n",
    "options = {\n",
    "    'width': CELL_WIDTH*12,\n",
    "    'height': CELL_HEIGHT*10,\n",
    "    'font':{\n",
    "        'bold': True,\n",
    "        'size': 12,\n",
    "        'color': 'black'\n",
    "    },\n",
    "    'line': {'color': 'black', 'width': 1, 'dash_type': 'solid'},\n",
    "}\n",
    "\n",
    "worksheet.insert_textbox(\"E9\", txt, options)\n",
    "\n",
    "path=\"images/daily_bbq_ckn.png\"\n",
    "worksheet.insert_image(\"B21\", path, options);"
   ]
  },
  {
   "cell_type": "code",
   "execution_count": 13,
   "metadata": {},
   "outputs": [],
   "source": [
    "txt=[\"Now that we know that our model predicts decently the daily stock of ingredients\",\n",
    "\"so we can use it to predict the stock of ingredients for an entire week.\",\n",
    "\"First, we'll sum up the daily stock of ingredients for each week.\",\n",
    "\"Then, we'll add a margin error so that we can be sure that we have enough ingredients.\",\n",
    "\"This margin error is the mean absolute error for each ingredient, and it is weighted by a hyperparameter alpha.\",\n",
    "\"Finally, lets define a parameter to make the predictions realistic.\",\n",
    "\"Let's say we need to make the order of ingredients for the next week on tuesdays.\",\n",
    "\"Then, we'll be missing data from tuesday to monday, which is equivalent to having an antelation of 4 days.\",\n",
    "\" \",\n",
    "\"Lets see some examples for a couple ingredients\"\n",
    "]\n",
    "txt=\"\\n\".join(txt)\n",
    "\n",
    "options = {\n",
    "    'width': CELL_WIDTH*15,\n",
    "    'height': CELL_HEIGHT*12,\n",
    "    'font':{\n",
    "        'bold': True,\n",
    "        'size': 12,\n",
    "        'color': 'black'\n",
    "    },\n",
    "    'line': {'color': 'black', 'width': 1, 'dash_type': 'solid'},\n",
    "}\n",
    "\n",
    "worksheet.insert_textbox(\"D45\", txt, options)\n",
    "\n",
    "path1=\"images/weekly_alf.png\"\n",
    "path2=\"images/weekly_pep.png\"\n",
    "worksheet.insert_image(\"B60\", path1, options)\n",
    "worksheet.insert_image(\"B84\", path2, options);"
   ]
  },
  {
   "cell_type": "code",
   "execution_count": 14,
   "metadata": {},
   "outputs": [],
   "source": [
    "txt=[\"To conclude, lets see how our model does on average over a year.\",\n",
    "\"For that, we'll predict the stock of ingredients for each week of 2016,\",\n",
    "\"and then we'll compare the mean of ingredients predicted against the mean of ingredients sold.\",\n",
    "\" \",\n",
    "\"As before, we'll have same alpha and antelation parameters.\",\n",
    "]\n",
    "txt=\"\\n\".join(txt)\n",
    "\n",
    "options = {\n",
    "    'width': CELL_WIDTH*13,\n",
    "    'height': CELL_HEIGHT*6,\n",
    "    'font':{\n",
    "        'bold': True,\n",
    "        'size': 12,\n",
    "        'color': 'black'\n",
    "    },\n",
    "    'line': {'color': 'black', 'width': 1, 'dash_type': 'solid'},\n",
    "}\n",
    "\n",
    "worksheet.insert_textbox(\"D110\", txt, options)\n",
    "\n",
    "path=\"images/weekly_all.png\"\n",
    "worksheet.insert_image(\"B118\", path, options)\n",
    "\n",
    "workbook.close()"
   ]
  }
 ],
 "metadata": {
  "kernelspec": {
   "display_name": "Python 3.10.6 64-bit",
   "language": "python",
   "name": "python3"
  },
  "language_info": {
   "codemirror_mode": {
    "name": "ipython",
    "version": 3
   },
   "file_extension": ".py",
   "mimetype": "text/x-python",
   "name": "python",
   "nbconvert_exporter": "python",
   "pygments_lexer": "ipython3",
   "version": "3.10.6"
  },
  "orig_nbformat": 4,
  "vscode": {
   "interpreter": {
    "hash": "841fed4330da2c0f186905de144ecf4da6db16f0ca1e7f45a0769cc74be68adf"
   }
  }
 },
 "nbformat": 4,
 "nbformat_minor": 2
}
